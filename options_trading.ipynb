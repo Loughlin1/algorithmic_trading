{
 "cells": [
  {
   "cell_type": "markdown",
   "metadata": {},
   "source": [
    "# Black Scholes and Binomial Options Pricing Strategy\n",
    "\n",
    "### Background Information\n",
    "The Derivative: European and American Options <br>\n",
    "The models: **Black Scholes** and **Binomial** models\n",
    "\n",
    "Options are financial derivatives that give the holder the right (but not the obligation) to buy or sell an asset at a predetermined price before a specified date. The **Black-Scholes** model is a widely used formula for pricing European-style options, while the **Binomial model** is more flexible for American-style options. The **Greeks** (Delta, Gamma, Vega, Theta, and Rho) are key metrics derived from option pricing models that describe the risk sensitivities of the option.\n",
    "\n",
    "#### Options Pricing Models\n",
    "- **Black-Scholes Model**: This is a mathematical model used to price European options by estimating the option’s fair value based on factors such as the underlying asset price, strike price, volatility, time to expiration, and risk-free interest rate.\n",
    "- **Binomial Model**: A discrete-time model for pricing options that allows you to calculate the option’s price step-by-step as the asset price evolves over time. This model is flexible and works well for American options (which can be exercised at any time).\n",
    "\n",
    "#### The Greeks\n",
    "- **Delta (Δ)**: Measures the sensitivity of an option’s price to changes in the price of the underlying asset. For example, a Delta of 0.5 means the option’s price will change by 0.5 units for every 1-unit change in the asset’s price.\n",
    "- **Gamma (Γ)**: Measures the rate of change of Delta with respect to the underlying asset’s price. High Gamma means Delta changes rapidly, making the option more sensitive to price movements.\n",
    "- **Vega (ν)**: Sensitivity of the option price to changes in the volatility of the underlying asset. High Vega means the option’s price is highly sensitive to changes in market volatility.\n",
    "- **Theta (Θ)**: Measures the sensitivity of the option price to the passage of time, also known as time decay. Options lose value as they approach expiration, especially if they are out of the money.\n",
    "- **Rho (ρ)**: Sensitivity of the option price to changes in the risk-free interest rate."
   ]
  },
  {
   "cell_type": "code",
   "execution_count": 50,
   "metadata": {},
   "outputs": [],
   "source": [
    "## Importing Modules for this notebook\n",
    "import numpy as np\n",
    "import pandas as pd\n",
    "import yfinance as yf\n",
    "from scipy.stats import norm\n",
    "from scipy.optimize import minimize"
   ]
  },
  {
   "cell_type": "markdown",
   "metadata": {},
   "source": [
    "For the theory behind the Black-Scholes and Binomial Models, please reference the following Bath Quant Group articles:\n",
    "- [Black-Scholes Model](https://bathquantgroup.netlify.app/bspm)\n",
    "- [Binomial Model](https://bathquantgroup.netlify.app/bopm)\n"
   ]
  },
  {
   "cell_type": "markdown",
   "metadata": {},
   "source": [
    "### Step 1: Build the Option Pricing Model\n",
    "\n",
    "In this step, we'll implement the **Black-Scholes** or **Binomial pricing model** in Python to calculate the theoretical price of options. These models are widely used to price both European and American-style options, respectively.\n",
    "\n",
    "For more theory behind the Black-Scholes and Binomial Models, please reference the following Bath Quant Group articles:\n",
    "- [Black-Scholes Model](https://bathquantgroup.netlify.app/bspm)\n",
    "- [Binomial Model](https://bathquantgroup.netlify.app/bopm)\n",
    "\n",
    "---"
   ]
  },
  {
   "cell_type": "markdown",
   "metadata": {},
   "source": [
    "#### 1.1 Black-Scholes Model Implementation\n",
    "\n",
    "The **Black-Scholes model** is used to price European-style options, which can only be exercised at expiration. The model assumes that stock prices follow a log-normal distribution and are influenced by factors like volatility, time to maturity, and interest rates.\n",
    "\n",
    "**Black-Scholes Formula for a Call Option**: $ C = S_0 \\cdot N(d_1) - X \\cdot e^{-rT} \\cdot N(d_2)$\n",
    "\n",
    "**For a Put Option**: $ P = X \\cdot e^{-rT} \\cdot N(-d_2) - S_0 \\cdot N(-d_1)$\n",
    "\n",
    "Where:\n",
    "- $C$ is the price of a call option.\n",
    "- $P$ is the price of a put option.\n",
    "- $S_0$ is the current price of the underlying asset.\n",
    "- $X$ is the strike price of the option.\n",
    "- $T$ is the time to maturity (in years).\n",
    "- $r$ is the risk-free interest rate.\n",
    "- $N(\\cdot)$ is the cumulative distribution function (CDF) of the standard normal distribution.\n",
    "- $\\sigma$ is the volatility of the underlying asset.\n",
    "- $d_1$ and $d_2$ are intermediate variables defined as: $d_1 = \\frac{\\ln(S_0 / X) + (r + \\frac{\\sigma^2}{2}) T}{\\sigma \\sqrt{T}}$, $d_2 = d_1 - \\sigma \\sqrt{T}$\n",
    "---"
   ]
  },
  {
   "cell_type": "code",
   "execution_count": 29,
   "metadata": {},
   "outputs": [],
   "source": [
    "import numpy as np\n",
    "from scipy.stats import norm\n",
    "\n",
    "def black_scholes(S, X, T, r, sigma, option_type='call'):\n",
    "    # Calculate d1 and d2\n",
    "    d1 = (np.log(S / X) + (r + 0.5 * sigma**2) * T) / (sigma * np.sqrt(T))\n",
    "    d2 = d1 - sigma * np.sqrt(T)\n",
    "\n",
    "    # Calculate call or put option price\n",
    "    if option_type == 'call':\n",
    "        option_price = S * norm.cdf(d1) - X * np.exp(-r * T) * norm.cdf(d2)\n",
    "    elif option_type == 'put':\n",
    "        option_price = X * np.exp(-r * T) * norm.cdf(-d2) - S * norm.cdf(-d1)\n",
    "    else:\n",
    "        raise ValueError(\"Invalid option type. Use 'call' or 'put'.\")\n",
    "    \n",
    "    return option_price"
   ]
  },
  {
   "cell_type": "markdown",
   "metadata": {},
   "source": [
    "---\n",
    "#### 1.2 Binomial Option Pricing Model Implementation\n",
    "\n",
    "The **Binomial model** is a discrete-time model used to price American-style options (which can be exercised at any time before expiration). It steps through time, creating a binomial price tree, then back-calculates the option’s value.\n",
    "\n",
    "Steps for Binomial Model:\n",
    "1. Create a binomial price tree for the stock price.\n",
    "2. Calculate the option’s payoff at each node in the tree.\n",
    "3. Backtrack through the tree to calculate the option price today.\n",
    "\n",
    "Where:\n",
    "- $C$ is the price of a call option.\n",
    "- $P$ is the price of a put option.\n",
    "- $S_0$ is the current price of the underlying asset.\n",
    "- $X$ is the strike price of the option.\n",
    "- $T$ is the time to maturity (in years).\n",
    "- $r$ is the risk-free interest rate.\n",
    "- $N(\\cdot)$ is the cumulative distribution function (CDF) of the standard normal distribution.\n",
    "- $\\sigma$ is the volatility of the underlying asset.\n",
    "- $d_1$ and $d_2$ are intermediate variables defined as: $d_1 = \\frac{\\ln(S_0 / X) + (r + \\frac{\\sigma^2}{2}) T}{\\sigma \\sqrt{T}}$, $d_2 = d_1 - \\sigma \\sqrt{T}$\n",
    "---"
   ]
  },
  {
   "cell_type": "code",
   "execution_count": 30,
   "metadata": {},
   "outputs": [],
   "source": [
    "def binomial_option_pricing(S, X, T, r, sigma, N, option_type='call'):\n",
    "    # Calculate parameters for the binomial model\n",
    "    dt = T / N  # Time step\n",
    "    u = np.exp(sigma * np.sqrt(dt))  # Up factor\n",
    "    d = 1 / u  # Down factor\n",
    "    q = (np.exp(r * dt) - d) / (u - d)  # Risk-neutral probability\n",
    "    \n",
    "    # Initialize asset price at maturity\n",
    "    stock_prices = np.zeros(N + 1)\n",
    "    option_values = np.zeros(N + 1)\n",
    "    \n",
    "    for i in range(N + 1):\n",
    "        stock_prices[i] = S * (u**i) * (d**(N - i))\n",
    "    \n",
    "    # Calculate the option payoff at maturity\n",
    "    if option_type == 'call':\n",
    "        option_values = np.maximum(stock_prices - X, 0)\n",
    "    elif option_type == 'put':\n",
    "        option_values = np.maximum(X - stock_prices, 0)\n",
    "    \n",
    "    # Backtrack to calculate option price at t=0\n",
    "    for t in range(N - 1, -1, -1):\n",
    "        for i in range(t + 1):\n",
    "            option_values[i] = np.exp(-r * dt) * (q * option_values[i + 1] + (1 - q) * option_values[i])\n",
    "    \n",
    "    return option_values[0]"
   ]
  },
  {
   "cell_type": "markdown",
   "metadata": {},
   "source": [
    "#### 1.3 Example"
   ]
  },
  {
   "cell_type": "code",
   "execution_count": 31,
   "metadata": {},
   "outputs": [
    {
     "name": "stdout",
     "output_type": "stream",
     "text": [
      "Call Option Price (Black-Scholes): 6.040088129724239\n",
      "Call Option Price (Binomial): 6.053224659718111\n",
      "Put Option Price (Black-Scholes): 10.675324824802793\n",
      "Put Option Price (Binomial): 10.68846135479751\n"
     ]
    }
   ],
   "source": [
    "S = 100      # Stock price\n",
    "X = 110      # Strike price\n",
    "T = 1        # Time to expiration in years\n",
    "r = 0.05     # Risk-free interest rate (5%)\n",
    "sigma = 0.2  # Volatility of the underlying asset (20%)\n",
    "N = 100      # Number of time steps (only for Binomial)\n",
    "\n",
    "# Price a call option\n",
    "call_price = black_scholes(S, X, T, r, sigma, option_type='call')\n",
    "print(f\"Call Option Price (Black-Scholes): {call_price}\")\n",
    "call_price = binomial_option_pricing(S, X, T, r, sigma, N, option_type='call')\n",
    "print(f\"Call Option Price (Binomial): {call_price}\")\n",
    "\n",
    "# Price a put option\n",
    "put_price = black_scholes(S, X, T, r, sigma, option_type='put')\n",
    "print(f\"Put Option Price (Black-Scholes): {put_price}\")\n",
    "put_price = binomial_option_pricing(S, X, T, r, sigma, N, option_type='put')\n",
    "print(f\"Put Option Price (Binomial): {put_price}\")"
   ]
  },
  {
   "cell_type": "markdown",
   "metadata": {},
   "source": [
    "---\n",
    "### Step 2: Calculate the Greeks\n",
    "\n",
    "In this step, we'll compute the **Greeks** of options, which measure the sensitivity of the option's price to various factors such as changes in the underlying asset price, volatility, and time. The Greeks are essential for risk management and optimizing strategies in options trading.\n",
    "\n",
    "---"
   ]
  },
  {
   "cell_type": "markdown",
   "metadata": {},
   "source": [
    "#### 2.1 The Five Key Greeks\n",
    "\n",
    "1. **Delta (Δ)**: <br>\n",
    "    Measures the rate of change of the option price with respect to changes in the price of the underlying asset.\n",
    "\n",
    "    $\\Delta = \\frac{\\partial C}{\\partial S}$\n",
    "\n",
    "    For a **call option**, Delta is positive, and for a **put option**, Delta is negative.\n",
    "\n",
    "2. **Gamma (Γ)**: <br>\n",
    "    Measures the rate of change of Delta with respect to changes in the underlying asset price. <br> \n",
    "    Gamma is the second derivative of the option price with respect to the asset price.\n",
    "    \n",
    "    $\\Gamma = \\frac{\\partial^2 C}{\\partial S^2}$\n",
    "\n",
    "3. **Vega (ν)**: <br>\n",
    "    Measures the sensitivity of the option price to changes in the volatility of the underlying asset.\n",
    "\n",
    "    $\\nu = \\frac{\\partial C}{\\partial \\sigma}$\n",
    "\n",
    "4. **Theta (Θ)**: <br>\n",
    "    Measures the rate of change of the option price with respect to the passage of time, also known as time decay.\n",
    "\n",
    "    $\\Theta = \\frac{\\partial C}{\\partial T}$\n",
    "\n",
    "5. **Rho (ρ)**: <br>\n",
    "    Measures the sensitivity of the option price to changes in the risk-free interest rate.\n",
    "\n",
    "    $\\rho = \\frac{\\partial C}{\\partial r}$\n",
    "\n",
    "---"
   ]
  },
  {
   "cell_type": "markdown",
   "metadata": {},
   "source": [
    "#### 2.2 Python Code for Greeks Calculation\n",
    "\n",
    "We will calculate the Greeks using the Black-Scholes model."
   ]
  },
  {
   "cell_type": "code",
   "execution_count": 32,
   "metadata": {},
   "outputs": [],
   "source": [
    "import numpy as np\n",
    "from scipy.stats import norm\n",
    "\n",
    "# Black-Scholes formula components\n",
    "def d1(S, X, T, r, sigma):\n",
    "    return (np.log(S / X) + (r + 0.5 * sigma**2) * T) / (sigma * np.sqrt(T))\n",
    "\n",
    "def d2(S, X, T, r, sigma):\n",
    "    return d1(S, X, T, r, sigma) - sigma * np.sqrt(T)\n",
    "\n",
    "# Black-Scholes Greeks\n",
    "def delta(S, X, T, r, sigma, option_type='call'):\n",
    "    d1_val = d1(S, X, T, r, sigma)\n",
    "    if option_type == 'call':\n",
    "        return norm.cdf(d1_val)\n",
    "    elif option_type == 'put':\n",
    "        return norm.cdf(d1_val) - 1\n",
    "\n",
    "def gamma(S, X, T, r, sigma):\n",
    "    d1_val = d1(S, X, T, r, sigma)\n",
    "    return norm.pdf(d1_val) / (S * sigma * np.sqrt(T))\n",
    "\n",
    "def vega(S, X, T, r, sigma):\n",
    "    d1_val = d1(S, X, T, r, sigma)\n",
    "    return S * norm.pdf(d1_val) * np.sqrt(T)\n",
    "\n",
    "def theta(S, X, T, r, sigma, option_type='call'):\n",
    "    d1_val = d1(S, X, T, r, sigma)\n",
    "    d2_val = d2(S, X, T, r, sigma)\n",
    "    term1 = - (S * norm.pdf(d1_val) * sigma) / (2 * np.sqrt(T))\n",
    "    if option_type == 'call':\n",
    "        term2 = r * X * np.exp(-r * T) * norm.cdf(d2_val)\n",
    "        return term1 - term2\n",
    "    elif option_type == 'put':\n",
    "        term2 = r * X * np.exp(-r * T) * norm.cdf(-d2_val)\n",
    "        return term1 + term2\n",
    "\n",
    "def rho(S, X, T, r, sigma, option_type='call'):\n",
    "    d2_val = d2(S, X, T, r, sigma)\n",
    "    if option_type == 'call':\n",
    "        return X * T * np.exp(-r * T) * norm.cdf(d2_val)\n",
    "    elif option_type == 'put':\n",
    "        return -X * T * np.exp(-r * T) * norm.cdf(-d2_val)"
   ]
  },
  {
   "cell_type": "markdown",
   "metadata": {},
   "source": [
    "#### 2.3 Example of Greeks calculation"
   ]
  },
  {
   "cell_type": "code",
   "execution_count": 33,
   "metadata": {},
   "outputs": [
    {
     "name": "stdout",
     "output_type": "stream",
     "text": [
      "Call Option Delta: 0.44964793063717595\n",
      "Gamma: 0.019788024019409666\n",
      "Vega: 39.57604803881934\n",
      "Theta (Call): -5.903840050581602\n",
      "Rho (Call): 38.924704933993354\n",
      "Put Option Delta: -0.5503520693628241\n",
      "Theta (Put): -0.6720782158276744\n",
      "Rho (Put): -65.71053176108519\n"
     ]
    }
   ],
   "source": [
    "# Option parameters\n",
    "S = 100       # Current stock price\n",
    "X = 110       # Strike price\n",
    "T = 1         # Time to expiration in years\n",
    "r = 0.05      # Risk-free interest rate (5%)\n",
    "sigma = 0.2   # Volatility of the underlying asset (20%)\n",
    "\n",
    "# Call option Greeks\n",
    "delta_call = delta(S, X, T, r, sigma, option_type='call')\n",
    "gamma_value = gamma(S, X, T, r, sigma)\n",
    "vega_value = vega(S, X, T, r, sigma)\n",
    "theta_call = theta(S, X, T, r, sigma, option_type='call')\n",
    "rho_call = rho(S, X, T, r, sigma, option_type='call')\n",
    "\n",
    "# Output the Greeks for the call option\n",
    "print(f\"Call Option Delta: {delta_call}\")\n",
    "print(f\"Gamma: {gamma_value}\")\n",
    "print(f\"Vega: {vega_value}\")\n",
    "print(f\"Theta (Call): {theta_call}\")\n",
    "print(f\"Rho (Call): {rho_call}\")\n",
    "\n",
    "# Put option Greeks\n",
    "delta_put = delta(S, X, T, r, sigma, option_type='put')\n",
    "theta_put = theta(S, X, T, r, sigma, option_type='put')\n",
    "rho_put = rho(S, X, T, r, sigma, option_type='put')\n",
    "\n",
    "# Output the Greeks for the put option\n",
    "print(f\"Put Option Delta: {delta_put}\")\n",
    "print(f\"Theta (Put): {theta_put}\")\n",
    "print(f\"Rho (Put): {rho_put}\")"
   ]
  },
  {
   "cell_type": "markdown",
   "metadata": {},
   "source": [
    "#### 2.4 Interpretation of the Greeks\n",
    "- Delta: A call option with a delta of 0.54 means that for every $1 increase in the underlying stock price, the option price will increase by $0.54.\n",
    "- Gamma: A gamma of 0.02 indicates that Delta will increase by 0.02 for every $1 increase in the stock price.\n",
    "- Vega: A vega of 12.4 means that for each 1% increase in volatility, the option price increases by 12.4 units.\n",
    "- Theta: A negative theta of -5.67 means the option will lose 5.67 units of value for each day closer to expiration.\n",
    "- Rho: A rho of 32.5 indicates that for every 1% increase in the interest rate, the option price will increase by 32.5 units."
   ]
  },
  {
   "cell_type": "markdown",
   "metadata": {},
   "source": [
    "### Step 3: Develop a Trading Strategy\n",
    "\n",
    "In this step, we will build a basic **options trading strategy** using the Greeks and market data. The goal is to construct a strategy that leverages the insights provided by the Greeks to optimize risk and returns. We will focus on a delta-neutral trading strategy as an example, which aims to eliminate directional risk by ensuring the portfolio has zero delta.\n",
    "\n",
    "---\n"
   ]
  },
  {
   "cell_type": "markdown",
   "metadata": {},
   "source": [
    "#### 3.1 Delta-Neutral Trading Strategy\n",
    "\n",
    "**What is Delta Neutrality?**\n",
    "A **delta-neutral strategy** is an options strategy that aims to have a **net delta of zero**, meaning that the price changes in the underlying asset will have little to no impact on the overall value of the portfolio. This is commonly achieved by holding both the underlying asset and options in a proportion that neutralizes the delta exposure.\n",
    "\n",
    "For example, if you are long call options with a delta of +0.5, you could short the underlying asset in a quantity that offsets this delta, bringing your total delta to zero.\n",
    "\n",
    "**Key Concepts for Delta-Neutral Strategies:**\n",
    "- **Delta (Δ)**: We aim for the sum of deltas across the portfolio to be as close to zero as possible.\n",
    "- **Hedging**: Use the underlying asset to hedge the delta risk.\n",
    "\n",
    "---"
   ]
  },
  {
   "cell_type": "markdown",
   "metadata": {},
   "source": [
    "#### 3.2 Strategy Outline\n",
    "\n",
    "- **Objective**: Develop a delta-neutral strategy by balancing options and the underlying stock to minimize directional risk.\n",
    "- **Approach**:\n",
    "    1. Calculate the delta of the options in the portfolio.\n",
    "    2. Adjust the position in the underlying stock to offset the net delta of the options.\n",
    "    3. Rebalance the portfolio periodically to maintain delta neutrality as market conditions change.\n",
    "\n",
    "---"
   ]
  },
  {
   "cell_type": "markdown",
   "metadata": {},
   "source": [
    "#### 3.3 Python Code for a Delta-Neutral Strategy\n",
    "\n",
    "Step-by-Step Strategy Implementation\n",
    "\n",
    "1. **Initial Setup**: Define the stock price, option characteristics, and portfolio allocation.\n",
    "2. **Delta Calculation**: Compute the delta for each option position.\n",
    "3. **Hedging**: Adjust the underlying stock position to maintain delta-neutrality.\n",
    "\n",
    "---"
   ]
  },
  {
   "cell_type": "code",
   "execution_count": 40,
   "metadata": {},
   "outputs": [
    {
     "name": "stdout",
     "output_type": "stream",
     "text": [
      "Total Delta of Options: 4.49647930637176\n",
      "Stock position to hedge delta: -4.49647930637176 shares of the underlying asset\n"
     ]
    }
   ],
   "source": [
    "# Option parameters\n",
    "S = 100  # Current stock price\n",
    "X = 110  # Strike price\n",
    "T = 1    # Time to expiration in years\n",
    "r = 0.05  # Risk-free rate\n",
    "sigma = 0.2  # Volatility\n",
    "N_options = 10  # Number of call options held\n",
    "\n",
    "# Step 1: Calculate the option delta\n",
    "delta_call = delta(S, X, T, r, sigma, option_type='call')\n",
    "\n",
    "# Step 2: Compute the total delta for the option position\n",
    "total_delta = N_options * delta_call\n",
    "print(f\"Total Delta of Options: {total_delta}\")\n",
    "\n",
    "# Step 3: Adjust the stock position to hedge delta risk (delta-neutral strategy)\n",
    "# To be delta neutral, we need to short the underlying asset in proportion to the option delta\n",
    "stock_position = -total_delta\n",
    "print(f\"Stock position to hedge delta: {stock_position} shares of the underlying asset\")\n",
    "\n",
    "# Example: If total_delta is 5, shorting 5 shares of the stock makes the portfolio delta-neutral."
   ]
  },
  {
   "cell_type": "markdown",
   "metadata": {},
   "source": [
    "---\n",
    "#### 3.4 Periodic Rebalancing\n",
    "\n",
    "Over time, as the stock price, volatility, or time to expiration changes, the delta of the option will change as well. This requires rebalancing the portfolio periodically to maintain delta-neutrality. We can simulate this by updating the delta as the stock price fluctuates."
   ]
  },
  {
   "cell_type": "code",
   "execution_count": 57,
   "metadata": {},
   "outputs": [
    {
     "name": "stdout",
     "output_type": "stream",
     "text": [
      "Stock Price: 80.0, Total Delta: 1.0706872802160106, Stock Position to Hedge: -1.0706872802160106\n",
      "Stock Price: 84.44444444444444, Total Delta: 1.6554205280927137, Stock Position to Hedge: -1.6554205280927137\n",
      "Stock Price: 88.88888888888889, Total Delta: 2.3716054748253224, Stock Position to Hedge: -2.3716054748253224\n",
      "Stock Price: 93.33333333333333, Total Delta: 3.1863641370807416, Stock Position to Hedge: -3.1863641370807416\n",
      "Stock Price: 97.77777777777777, Total Delta: 4.055856778862833, Stock Position to Hedge: -4.055856778862833\n",
      "Stock Price: 102.22222222222223, Total Delta: 4.9335537883567735, Stock Position to Hedge: -4.9335537883567735\n",
      "Stock Price: 106.66666666666667, Total Delta: 5.777503734925805, Stock Position to Hedge: -5.777503734925805\n",
      "Stock Price: 111.11111111111111, Total Delta: 6.555144229032319, Stock Position to Hedge: -6.555144229032319\n",
      "Stock Price: 115.55555555555556, Total Delta: 7.24531033957998, Stock Position to Hedge: -7.24531033957998\n",
      "Stock Price: 120.0, Total Delta: 7.837898914831941, Stock Position to Hedge: -7.837898914831941\n"
     ]
    },
    {
     "data": {
      "image/png": "[encoded data removed]",
      "text/plain": [
       "<Figure size 640x480 with 1 Axes>"
      ]
     },
     "metadata": {},
     "output_type": "display_data"
    }
   ],
   "source": [
    "# Simulate stock price changes over time and rebalance\n",
    "stock_prices = np.linspace(80, 120, 10)  # Simulating stock prices from $80 to $120\n",
    "option_positions = []\n",
    "stock_positions = []\n",
    "\n",
    "for S_new in stock_prices:\n",
    "    new_delta = delta(S_new, X, T, r, sigma, option_type='call')     # Recalculate delta with the new stock price\n",
    "    total_delta = N_options * new_delta     # Total delta for the new price\n",
    "    stock_position = -total_delta     # Stock position needed to maintain delta neutrality\n",
    "    \n",
    "    option_positions.append(total_delta)\n",
    "    stock_positions.append(stock_position)\n",
    "    \n",
    "    print(f\"Stock Price: {S_new}, Total Delta: {total_delta}, Stock Position to Hedge: {stock_position}\")\n",
    "\n",
    "# Plot the results (optional, can be added for visualization)\n",
    "import matplotlib.pyplot as plt\n",
    "\n",
    "plt.plot(stock_prices, stock_positions, label='Stock Position to Hedge Delta')\n",
    "plt.xlabel('Stock Price')\n",
    "plt.ylabel('Stock Position')\n",
    "plt.title('Stock Positions to Maintain Delta Neutrality')\n",
    "plt.legend()\n",
    "plt.show()"
   ]
  },
  {
   "cell_type": "markdown",
   "metadata": {},
   "source": [
    "---\n",
    "#### 3.5 Using Historical Data from yfinance\n",
    "\n",
    "We will use the ticker ___.\n",
    "\n",
    "We require the following parameters:\n"
   ]
  },
  {
   "cell_type": "code",
   "execution_count": 56,
   "metadata": {},
   "outputs": [
    {
     "data": {
      "text/plain": [
       "(         contractSymbol             lastTradeDate  strike  lastPrice     bid  \\\n",
       " 0   AAPL240927C00100000 2024-09-19 13:37:33+00:00   100.0     126.26  126.70   \n",
       " 1   AAPL240927C00105000 2024-09-03 18:16:00+00:00   105.0     117.60  121.55   \n",
       " 2   AAPL240927C00110000 2024-08-19 13:30:07+00:00   110.0     115.93  109.55   \n",
       " 3   AAPL240927C00130000 2024-08-27 15:22:23+00:00   130.0      99.40   96.75   \n",
       " 4   AAPL240927C00140000 2024-09-19 14:24:56+00:00   140.0      89.27   86.75   \n",
       " ..                  ...                       ...     ...        ...     ...   \n",
       " 24  AAPL241025C00275000 2024-09-19 19:29:03+00:00   275.0       0.06    0.00   \n",
       " 25  AAPL241025C00280000 2024-09-20 18:05:28+00:00   280.0       0.04    0.00   \n",
       " 26  AAPL241025C00285000 2024-09-18 17:26:05+00:00   285.0       0.01    0.00   \n",
       " 27  AAPL241025C00295000 2024-09-18 13:30:05+00:00   295.0       0.02    0.02   \n",
       " 28  AAPL241025C00300000 2024-09-20 17:20:26+00:00   300.0       0.02    0.01   \n",
       " \n",
       "        ask  change  percentChange  volume  openInterest  impliedVolatility  \\\n",
       " 0   130.30    0.00       0.000000     1.0             3           2.964846   \n",
       " 1   125.40    0.00       0.000000     1.0             1           2.767581   \n",
       " 2   110.20    0.00       0.000000    10.0            10           0.000010   \n",
       " 3   100.40    0.00       0.000000     NaN             0           2.166020   \n",
       " 4    90.40    0.00       0.000000     2.0             2           1.910157   \n",
       " ..     ...     ...            ...     ...           ...                ...   \n",
       " 24    0.18    0.00       0.000000   106.0           104           0.300788   \n",
       " 25    0.17   -0.01     -20.000004     3.0           148           0.322272   \n",
       " 26    0.17    0.00       0.000000     1.0             3           0.345710   \n",
       " 27    0.19    0.00       0.000000     4.0             9           0.396490   \n",
       " 28    0.03    0.01     100.000000    61.0            25           0.333991   \n",
       " \n",
       "     inTheMoney contractSize currency option_type  time_to_expiration  \n",
       " 0         True      REGULAR      USD        call           -0.008172  \n",
       " 1         True      REGULAR      USD        call           -0.051478  \n",
       " 2         True      REGULAR      USD        call           -0.093118  \n",
       " 3         True      REGULAR      USD        call           -0.070986  \n",
       " 4         True      REGULAR      USD        call           -0.008082  \n",
       " ..         ...          ...      ...         ...                 ...  \n",
       " 24       False      REGULAR      USD         put           -0.007503  \n",
       " 25       False      REGULAR      USD         put           -0.004923  \n",
       " 26       False      REGULAR      USD         put           -0.010477  \n",
       " 27       False      REGULAR      USD         put           -0.010926  \n",
       " 28       False      REGULAR      USD         put           -0.005008  \n",
       " \n",
       " [404 rows x 16 columns],\n",
       " ('2024-09-27', '2024-10-04', '2024-10-11', '2024-10-18', '2024-10-25'))"
      ]
     },
     "execution_count": 56,
     "metadata": {},
     "output_type": "execute_result"
    }
   ],
   "source": [
    "def fetch_and_prepare_data(ticker_symbol, num_dates=5):\n",
    "    ticker = yf.Ticker(ticker_symbol)\n",
    "    expiration_dates = ticker.options[:num_dates]\n",
    "    options_data = []\n",
    "\n",
    "    for date in expiration_dates:\n",
    "        options = ticker.option_chain(date)\n",
    "        calls = options.calls.assign(option_type='call')\n",
    "        puts = options.calls.assign(option_type='put')\n",
    "        options_data.append(pd.concat([calls, puts]))\n",
    "    \n",
    "    df = pd.concat(options_data)\n",
    "    current_time = pd.Timestamp.now(tz='UTC')\n",
    "    df['time_to_expiration'] = (pd.to_datetime(df['lastTradeDate']) - current_time).dt.total_seconds() / (365 * 24 * 60 * 60)\n",
    "\n",
    "    return df, expiration_dates\n",
    "\n",
    "fetch_and_prepare_data(\"AAPL\")"
   ]
  },
  {
   "cell_type": "markdown",
   "metadata": {},
   "source": [
    "---\n",
    "#### 3.6 Key Insights\n",
    "- Delta Neutrality: The stock position changes as the stock price changes to ensure the portfolio stays delta-neutral.\n",
    "- Hedging: This strategy reduces directional risk, but other risks like gamma, vega, and theta may still impact the portfolio.\n",
    "- Rebalancing: Continuous monitoring and rebalancing are required, especially when market conditions change rapidly.\n",
    "\n",
    "Conclusion for Step 3:\n",
    "\n",
    "A delta-neutral strategy is an effective way to manage risk in an options portfolio, minimizing exposure to price fluctuations in the underlying asset. However, this strategy does not account for other risks like volatility (Vega) or time decay (Theta), which may also need to be managed in a more sophisticated strategy. Regular rebalancing ensures that the portfolio remains hedged as market conditions change.\n",
    "\n",
    "---"
   ]
  },
  {
   "cell_type": "markdown",
   "metadata": {},
   "source": [
    "### Step 4: Portfolio Optimization and Risk Management\n",
    "\n",
    "In this step, we will focus on **optimizing the portfolio** and managing risk using techniques such as position sizing, risk-adjusted returns, and risk metrics like **maximum drawdown** and **Sharpe ratio**. The goal is to build a robust algorithmic trading strategy that maximizes returns while keeping risks under control.\n",
    "\n",
    "---"
   ]
  },
  {
   "cell_type": "markdown",
   "metadata": {},
   "source": [
    "#### 4.1 Portfolio Optimization\n",
    "\n",
    "**Overview**\n",
    "\n",
    "Portfolio optimization is the process of selecting the best portfolio (allocation of assets) according to some objective, such as maximizing return or minimizing risk. In the context of options trading, we can adjust the **position sizing** of each trade based on factors like volatility, expected return, or market conditions.\n",
    "\n",
    "**Key Concepts:**\n",
    "\n",
    "- **Sharpe Ratio**: Measures risk-adjusted return (i.e., return per unit of risk). A higher Sharpe ratio indicates better risk-adjusted performance.\n",
    "- **Position Sizing**: Determines the amount of capital to allocate to each trade based on its risk profile.\n",
    "- **Volatility**: Higher volatility usually demands smaller positions to mitigate risk, while lower volatility may allow for larger positions.\n",
    "- **Risk Parity**: A method of balancing the risk contribution of each asset in a portfolio, such that each asset contributes equally to overall portfolio risk.\n",
    "\n",
    "---"
   ]
  },
  {
   "cell_type": "markdown",
   "metadata": {},
   "source": [
    "#### 4.2 Position Sizing Based on Volatility\n",
    "\n",
    "**Volatility-Adjusted Position Sizing**\n",
    "\n",
    "A common approach to manage risk is to adjust position size according to the asset's volatility. This ensures that more volatile assets receive smaller allocations, while less volatile assets receive larger allocations.\n",
    "\n",
    "**Formula for Volatility-Based Position Sizing:**\n",
    "\n",
    "$$\n",
    "\\text{Position Size} = \\frac{\\text{Capital} \\times \\text{Risk Tolerance}}{\\text{Volatility} \\times \\sqrt{\\text{Position Variance}}}\n",
    "$$\n",
    "\n",
    "This formula adjusts the size of each position based on its volatility, ensuring that we don't over-allocate to riskier assets.\n",
    "\n",
    "---"
   ]
  },
  {
   "cell_type": "markdown",
   "metadata": {},
   "source": [
    "#### 4.3 Implementing Position Sizing in Python\n"
   ]
  },
  {
   "cell_type": "code",
   "execution_count": 36,
   "metadata": {},
   "outputs": [
    {
     "name": "stdout",
     "output_type": "stream",
     "text": [
      "Volatility-Adjusted Position Size: $3162.28 per position\n"
     ]
    }
   ],
   "source": [
    "# Parameters\n",
    "capital = 100000  # Total capital available for trading\n",
    "volatility = 0.2  # Asset volatility (e.g., 20%)\n",
    "risk_tolerance = 0.02  # Risk tolerance per trade (e.g., 2% of total capital)\n",
    "n_positions = 10  # Number of positions\n",
    "\n",
    "# Calculate position size\n",
    "position_size = (capital * risk_tolerance) / (volatility * np.sqrt(n_positions))\n",
    "print(f\"Volatility-Adjusted Position Size: ${position_size:.2f} per position\")"
   ]
  },
  {
   "cell_type": "markdown",
   "metadata": {},
   "source": [
    "This code calculates the position size based on volatility, ensuring that each trade has an appropriate risk-adjusted allocation."
   ]
  },
  {
   "cell_type": "markdown",
   "metadata": {},
   "source": [
    "---\n",
    "#### 4.4 Risk Management Techniques\n",
    "\n",
    "- Maximum Drawdown (MDD): The maximum observed loss from a peak to a trough of a portfolio, before a new peak is attained. It measures the largest single drop in portfolio value over a period.\n",
    "\n",
    "$$\n",
    "\\text{MDD} = \\frac{\\text{Peak Value} - \\text{Trough Value}}{\\text{Peak Value}} \\times 100\n",
    "$$\n",
    "\n",
    "A lower drawdown indicates better risk management, as it means the portfolio doesn’t experience large, sustained losses"
   ]
  },
  {
   "cell_type": "code",
   "execution_count": 37,
   "metadata": {},
   "outputs": [
    {
     "name": "stdout",
     "output_type": "stream",
     "text": [
      "Maximum Drawdown: 193.71%\n"
     ]
    }
   ],
   "source": [
    "# Example portfolio returns (simulated)\n",
    "portfolio_returns = np.array([0.05, -0.02, 0.04, -0.03, -0.10, 0.02, 0.06, -0.01, 0.03, 0.07])\n",
    "\n",
    "# Cumulative returns\n",
    "cumulative_returns = np.cumprod(1 + portfolio_returns) - 1\n",
    "\n",
    "# Calculate drawdown\n",
    "peak = np.maximum.accumulate(cumulative_returns)\n",
    "drawdown = (peak - cumulative_returns) / peak\n",
    "\n",
    "# Maximum drawdown\n",
    "max_drawdown = np.max(drawdown)\n",
    "print(f\"Maximum Drawdown: {max_drawdown * 100:.2f}%\")"
   ]
  },
  {
   "cell_type": "markdown",
   "metadata": {},
   "source": [
    "- Sharpe Ratio: A widely used measure of risk-adjusted return. It is calculated as the excess return (portfolio return minus risk-free rate) divided by the standard deviation (volatility) of returns:\n",
    "\n",
    "$$\n",
    "\\text{Sharpe Ratio} = \\frac{R_p - R_f}{\\sigma_p}\n",
    "$$\n",
    "\n",
    "Where:\n",
    "- $ R_p $ = Portfolio return\n",
    "- $ R_f $ = Risk-free rate\n",
    "- $ \\sigma_p $ = Portfolio standard deviation\n"
   ]
  },
  {
   "cell_type": "code",
   "execution_count": 38,
   "metadata": {},
   "outputs": [
    {
     "name": "stdout",
     "output_type": "stream",
     "text": [
      "Sharpe Ratio: 0.02\n"
     ]
    }
   ],
   "source": [
    "portfolio_return = np.mean(portfolio_returns)\n",
    "portfolio_std_dev = np.std(portfolio_returns)\n",
    "risk_free_rate = 0.01  # 1% risk-free rate\n",
    "\n",
    "sharpe_ratio = (portfolio_return - risk_free_rate) / portfolio_std_dev\n",
    "print(f\"Sharpe Ratio: {sharpe_ratio:.2f}\")"
   ]
  },
  {
   "cell_type": "markdown",
   "metadata": {},
   "source": [
    "A Sharpe Ratio above 1 is considered good, above 2 is very good, and above 3 is excellent. This helps us evaluate whether our portfolio’s returns justify the risks taken."
   ]
  },
  {
   "cell_type": "markdown",
   "metadata": {},
   "source": [
    "#### 4.5 Risk Parity Strategy\n",
    "\n",
    "Another advanced portfolio optimization technique is Risk Parity, which allocates positions in such a way that each asset contributes equally to the overall portfolio risk. This creates a more balanced risk exposure across assets.\n"
   ]
  },
  {
   "cell_type": "code",
   "execution_count": 39,
   "metadata": {},
   "outputs": [
    {
     "name": "stdout",
     "output_type": "stream",
     "text": [
      "Optimized Weights for Risk Parity: [0.22988588 0.17241451 0.34482713 0.13793009 0.11494238]\n"
     ]
    }
   ],
   "source": [
    "volatilities = np.array([0.15, 0.2, 0.1, 0.25, 0.3])  # Example volatilities\n",
    "initial_weights = np.ones(len(volatilities)) / len(volatilities)\n",
    "\n",
    "# Objective: Minimize the difference between risk contribution of each asset\n",
    "def risk_parity_objective(weights, volatilities):\n",
    "    portfolio_volatility = np.sqrt(np.dot(weights.T, weights * volatilities**2))\n",
    "    risk_contribution = (weights * volatilities) / portfolio_volatility\n",
    "    return np.std(risk_contribution)\n",
    "\n",
    "constraints = ({'type': 'eq', 'fun': lambda x: np.sum(x) - 1}) # Constraint: Weights must sum to 1\n",
    "\n",
    "bounds = [(0, 1)] * len(volatilities) # Bounds: Each weight between 0 and 1\n",
    "\n",
    "optimized_weights = minimize(risk_parity_objective, initial_weights, args=(volatilities,), \n",
    "                             method='SLSQP', bounds=bounds, constraints=constraints)\n",
    "\n",
    "print(f\"Optimized Weights for Risk Parity: {optimized_weights.x}\")"
   ]
  }
 ],
 "metadata": {
  "kernelspec": {
   "display_name": "base",
   "language": "python",
   "name": "python3"
  },
  "language_info": {
   "codemirror_mode": {
    "name": "ipython",
    "version": 3
   },
   "file_extension": ".py",
   "mimetype": "text/x-python",
   "name": "python",
   "nbconvert_exporter": "python",
   "pygments_lexer": "ipython3",
   "version": "3.11.5"
  }
 },
 "nbformat": 4,
 "nbformat_minor": 2
}
